{
 "cells": [
  {
   "cell_type": "code",
   "execution_count": 1,
   "id": "68f67284",
   "metadata": {},
   "outputs": [
    {
     "name": "stdout",
     "output_type": "stream",
     "text": [
      "06-Mar-24 12:07:26 - NumExpr defaulting to 8 threads.\n"
     ]
    }
   ],
   "source": [
    "from ntscraper import Nitter\n",
    "import pandas as pd"
   ]
  },
  {
   "cell_type": "code",
   "execution_count": 2,
   "id": "537e302c",
   "metadata": {},
   "outputs": [],
   "source": [
    "from textblob import TextBlob\n",
    "from wordcloud import WordCloud\n",
    "import numpy as np\n",
    "import re\n",
    "import matplotlib.pyplot as plt\n"
   ]
  },
  {
   "cell_type": "code",
   "execution_count": 3,
   "id": "b17542b7",
   "metadata": {},
   "outputs": [
    {
     "name": "stderr",
     "output_type": "stream",
     "text": [
      "Testing instances: 100%|██████████| 77/77 [02:40<00:00,  2.09s/it]\n"
     ]
    }
   ],
   "source": [
    "scraper = Nitter()"
   ]
  },
  {
   "cell_type": "code",
   "execution_count": 4,
   "id": "45fa833e",
   "metadata": {},
   "outputs": [],
   "source": [
    "def get_tweets(name,modes,no):\n",
    "    tweets = scraper.get_tweets(name,mode = modes, number = no)    \n",
    "    final_tweets = []\n",
    "    for tweet in tweets['tweets']:\n",
    "        data = [tweet['link'],tweet['text'],tweet['date'], tweet['stats']['likes'],tweet['stats']['comments']]\n",
    "        final_tweets.append(data)\n",
    "    data = pd.DataFrame(final_tweets, columns = ['link','Tweets','Date','Likes','Count(Tweets)'])\n",
    "    return data"
   ]
  },
  {
   "cell_type": "code",
   "execution_count": 12,
   "id": "a7e851a1",
   "metadata": {},
   "outputs": [
    {
     "name": "stdout",
     "output_type": "stream",
     "text": [
      "05-Mar-24 16:55:52 - No instance specified, using random instance https://nitter.privacydev.net\n",
      "05-Mar-24 16:55:58 - Current stats for AdityaBirlaGrp: 20 tweets, 0 threads...\n",
      "05-Mar-24 16:56:02 - Current stats for AdityaBirlaGrp: 40 tweets, 0 threads...\n",
      "05-Mar-24 16:56:06 - Current stats for AdityaBirlaGrp: 60 tweets, 0 threads...\n",
      "05-Mar-24 16:56:11 - Current stats for AdityaBirlaGrp: 80 tweets, 0 threads...\n",
      "05-Mar-24 16:56:13 - Empty page on https://nitter.privacydev.net\n"
     ]
    }
   ],
   "source": [
    "data = get_tweets('AdityaBirlaGrp','user',200) # Use 'term', 'hashtag', or 'user'."
   ]
  },
  {
   "cell_type": "code",
   "execution_count": 44,
   "id": "d2955930",
   "metadata": {},
   "outputs": [
    {
     "data": {
      "text/html": [
       "<div>\n",
       "<style scoped>\n",
       "    .dataframe tbody tr th:only-of-type {\n",
       "        vertical-align: middle;\n",
       "    }\n",
       "\n",
       "    .dataframe tbody tr th {\n",
       "        vertical-align: top;\n",
       "    }\n",
       "\n",
       "    .dataframe thead th {\n",
       "        text-align: right;\n",
       "    }\n",
       "</style>\n",
       "<table border=\"1\" class=\"dataframe\">\n",
       "  <thead>\n",
       "    <tr style=\"text-align: right;\">\n",
       "      <th></th>\n",
       "      <th>link</th>\n",
       "      <th>Tweets</th>\n",
       "      <th>Date</th>\n",
       "      <th>Likes</th>\n",
       "      <th>Count(Tweets)</th>\n",
       "      <th>Subjectivity</th>\n",
       "      <th>Polarity</th>\n",
       "      <th>Analysis</th>\n",
       "      <th>Label</th>\n",
       "    </tr>\n",
       "  </thead>\n",
       "  <tbody>\n",
       "    <tr>\n",
       "      <th>0</th>\n",
       "      <td>https://twitter.com/AdityaBirlaGrp/status/1764...</td>\n",
       "      <td>adityabirlagroup biginyourlif ananyabirla svat...</td>\n",
       "      <td>Mar 5, 2024 · 8:04 AM UTC</td>\n",
       "      <td>1</td>\n",
       "      <td>0</td>\n",
       "      <td>0.000000</td>\n",
       "      <td>0.000000</td>\n",
       "      <td>Neutral</td>\n",
       "      <td>1</td>\n",
       "    </tr>\n",
       "    <tr>\n",
       "      <th>1</th>\n",
       "      <td>https://twitter.com/AdityaBirlaGrp/status/1764...</td>\n",
       "      <td>mark the largest invest by privat equiti inves...</td>\n",
       "      <td>Mar 5, 2024 · 8:04 AM UTC</td>\n",
       "      <td>78</td>\n",
       "      <td>2</td>\n",
       "      <td>0.187500</td>\n",
       "      <td>0.000000</td>\n",
       "      <td>Neutral</td>\n",
       "      <td>1</td>\n",
       "    </tr>\n",
       "    <tr>\n",
       "      <th>2</th>\n",
       "      <td>https://twitter.com/AdityaBirlaGrp/status/1764...</td>\n",
       "      <td>icon idea by remark speaker from around the gl...</td>\n",
       "      <td>Mar 3, 2024 · 1:52 PM UTC</td>\n",
       "      <td>702</td>\n",
       "      <td>8</td>\n",
       "      <td>0.451136</td>\n",
       "      <td>0.355114</td>\n",
       "      <td>Positive</td>\n",
       "      <td>2</td>\n",
       "    </tr>\n",
       "    <tr>\n",
       "      <th>3</th>\n",
       "      <td>https://twitter.com/AdityaBirlaGrp/status/1763...</td>\n",
       "      <td>live now! tap into the puls of innov and inspi...</td>\n",
       "      <td>Mar 2, 2024 · 7:40 AM UTC</td>\n",
       "      <td>464</td>\n",
       "      <td>1</td>\n",
       "      <td>0.642857</td>\n",
       "      <td>0.304518</td>\n",
       "      <td>Positive</td>\n",
       "      <td>2</td>\n",
       "    </tr>\n",
       "    <tr>\n",
       "      <th>4</th>\n",
       "      <td>https://twitter.com/AdityaBirlaGrp/status/1763...</td>\n",
       "      <td>light out, we’r get readi for you! here’ a pee...</td>\n",
       "      <td>Mar 2, 2024 · 3:31 AM UTC</td>\n",
       "      <td>16</td>\n",
       "      <td>2</td>\n",
       "      <td>0.750000</td>\n",
       "      <td>0.291667</td>\n",
       "      <td>Positive</td>\n",
       "      <td>2</td>\n",
       "    </tr>\n",
       "    <tr>\n",
       "      <th>...</th>\n",
       "      <td>...</td>\n",
       "      <td>...</td>\n",
       "      <td>...</td>\n",
       "      <td>...</td>\n",
       "      <td>...</td>\n",
       "      <td>...</td>\n",
       "      <td>...</td>\n",
       "      <td>...</td>\n",
       "      <td>...</td>\n",
       "    </tr>\n",
       "    <tr>\n",
       "      <th>75</th>\n",
       "      <td>https://twitter.com/AdityaBirlaGrp/status/1738...</td>\n",
       "      <td>abgrewind2023 adityabirlagroup biginyourlif re...</td>\n",
       "      <td>Dec 22, 2023 · 7:38 AM UTC</td>\n",
       "      <td>8</td>\n",
       "      <td>0</td>\n",
       "      <td>0.000000</td>\n",
       "      <td>0.000000</td>\n",
       "      <td>Neutral</td>\n",
       "      <td>1</td>\n",
       "    </tr>\n",
       "    <tr>\n",
       "      <th>76</th>\n",
       "      <td>https://twitter.com/AdityaBirlaGrp/status/1738...</td>\n",
       "      <td>we imagin anew with innov set to transform ind...</td>\n",
       "      <td>Dec 22, 2023 · 7:38 AM UTC</td>\n",
       "      <td>244</td>\n",
       "      <td>2</td>\n",
       "      <td>0.416667</td>\n",
       "      <td>0.375000</td>\n",
       "      <td>Positive</td>\n",
       "      <td>2</td>\n",
       "    </tr>\n",
       "    <tr>\n",
       "      <th>77</th>\n",
       "      <td>https://twitter.com/AdityaBirlaGrp/status/1737...</td>\n",
       "      <td>abgrewind2023 adityabirlagroup biginyourlif re...</td>\n",
       "      <td>Dec 21, 2023 · 10:41 AM UTC</td>\n",
       "      <td>6</td>\n",
       "      <td>0</td>\n",
       "      <td>0.000000</td>\n",
       "      <td>0.000000</td>\n",
       "      <td>Neutral</td>\n",
       "      <td>1</td>\n",
       "    </tr>\n",
       "    <tr>\n",
       "      <th>78</th>\n",
       "      <td>https://twitter.com/AdityaBirlaGrp/status/1737...</td>\n",
       "      <td>a year in build bond that shape tomorrow. we u...</td>\n",
       "      <td>Dec 21, 2023 · 10:41 AM UTC</td>\n",
       "      <td>307</td>\n",
       "      <td>2</td>\n",
       "      <td>0.531250</td>\n",
       "      <td>0.406250</td>\n",
       "      <td>Positive</td>\n",
       "      <td>2</td>\n",
       "    </tr>\n",
       "    <tr>\n",
       "      <th>79</th>\n",
       "      <td>https://twitter.com/AdityaBirlaGrp/status/1737...</td>\n",
       "      <td>_world abgrewind2023 adityabirlagroup biginyou...</td>\n",
       "      <td>Dec 20, 2023 · 12:22 PM UTC</td>\n",
       "      <td>3</td>\n",
       "      <td>0</td>\n",
       "      <td>0.000000</td>\n",
       "      <td>0.000000</td>\n",
       "      <td>Neutral</td>\n",
       "      <td>1</td>\n",
       "    </tr>\n",
       "  </tbody>\n",
       "</table>\n",
       "<p>80 rows × 9 columns</p>\n",
       "</div>"
      ],
      "text/plain": [
       "                                                 link  \\\n",
       "0   https://twitter.com/AdityaBirlaGrp/status/1764...   \n",
       "1   https://twitter.com/AdityaBirlaGrp/status/1764...   \n",
       "2   https://twitter.com/AdityaBirlaGrp/status/1764...   \n",
       "3   https://twitter.com/AdityaBirlaGrp/status/1763...   \n",
       "4   https://twitter.com/AdityaBirlaGrp/status/1763...   \n",
       "..                                                ...   \n",
       "75  https://twitter.com/AdityaBirlaGrp/status/1738...   \n",
       "76  https://twitter.com/AdityaBirlaGrp/status/1738...   \n",
       "77  https://twitter.com/AdityaBirlaGrp/status/1737...   \n",
       "78  https://twitter.com/AdityaBirlaGrp/status/1737...   \n",
       "79  https://twitter.com/AdityaBirlaGrp/status/1737...   \n",
       "\n",
       "                                               Tweets  \\\n",
       "0   adityabirlagroup biginyourlif ananyabirla svat...   \n",
       "1   mark the largest invest by privat equiti inves...   \n",
       "2   icon idea by remark speaker from around the gl...   \n",
       "3   live now! tap into the puls of innov and inspi...   \n",
       "4   light out, we’r get readi for you! here’ a pee...   \n",
       "..                                                ...   \n",
       "75  abgrewind2023 adityabirlagroup biginyourlif re...   \n",
       "76  we imagin anew with innov set to transform ind...   \n",
       "77  abgrewind2023 adityabirlagroup biginyourlif re...   \n",
       "78  a year in build bond that shape tomorrow. we u...   \n",
       "79  _world abgrewind2023 adityabirlagroup biginyou...   \n",
       "\n",
       "                           Date  Likes  Count(Tweets)  Subjectivity  Polarity  \\\n",
       "0     Mar 5, 2024 · 8:04 AM UTC      1              0      0.000000  0.000000   \n",
       "1     Mar 5, 2024 · 8:04 AM UTC     78              2      0.187500  0.000000   \n",
       "2     Mar 3, 2024 · 1:52 PM UTC    702              8      0.451136  0.355114   \n",
       "3     Mar 2, 2024 · 7:40 AM UTC    464              1      0.642857  0.304518   \n",
       "4     Mar 2, 2024 · 3:31 AM UTC     16              2      0.750000  0.291667   \n",
       "..                          ...    ...            ...           ...       ...   \n",
       "75   Dec 22, 2023 · 7:38 AM UTC      8              0      0.000000  0.000000   \n",
       "76   Dec 22, 2023 · 7:38 AM UTC    244              2      0.416667  0.375000   \n",
       "77  Dec 21, 2023 · 10:41 AM UTC      6              0      0.000000  0.000000   \n",
       "78  Dec 21, 2023 · 10:41 AM UTC    307              2      0.531250  0.406250   \n",
       "79  Dec 20, 2023 · 12:22 PM UTC      3              0      0.000000  0.000000   \n",
       "\n",
       "    Analysis  Label  \n",
       "0    Neutral      1  \n",
       "1    Neutral      1  \n",
       "2   Positive      2  \n",
       "3   Positive      2  \n",
       "4   Positive      2  \n",
       "..       ...    ...  \n",
       "75   Neutral      1  \n",
       "76  Positive      2  \n",
       "77   Neutral      1  \n",
       "78  Positive      2  \n",
       "79   Neutral      1  \n",
       "\n",
       "[80 rows x 9 columns]"
      ]
     },
     "execution_count": 44,
     "metadata": {},
     "output_type": "execute_result"
    }
   ],
   "source": [
    "data"
   ]
  },
  {
   "cell_type": "code",
   "execution_count": 15,
   "id": "6b4e8db6",
   "metadata": {},
   "outputs": [
    {
     "data": {
      "text/html": [
       "<div>\n",
       "<style scoped>\n",
       "    .dataframe tbody tr th:only-of-type {\n",
       "        vertical-align: middle;\n",
       "    }\n",
       "\n",
       "    .dataframe tbody tr th {\n",
       "        vertical-align: top;\n",
       "    }\n",
       "\n",
       "    .dataframe thead th {\n",
       "        text-align: right;\n",
       "    }\n",
       "</style>\n",
       "<table border=\"1\" class=\"dataframe\">\n",
       "  <thead>\n",
       "    <tr style=\"text-align: right;\">\n",
       "      <th></th>\n",
       "      <th>link</th>\n",
       "      <th>Tweets</th>\n",
       "      <th>Date</th>\n",
       "      <th>Likes</th>\n",
       "      <th>Count(Tweets)</th>\n",
       "    </tr>\n",
       "  </thead>\n",
       "  <tbody>\n",
       "    <tr>\n",
       "      <th>45</th>\n",
       "      <td>https://twitter.com/AdityaBirlaGrp/status/1753...</td>\n",
       "      <td>Aditya Birla Capital has reported stellar Q3FY...</td>\n",
       "      <td>Feb 1, 2024 · 12:53 PM UTC</td>\n",
       "      <td>389</td>\n",
       "      <td>6</td>\n",
       "    </tr>\n",
       "    <tr>\n",
       "      <th>11</th>\n",
       "      <td>https://twitter.com/AdityaBirlaGrp/status/1762...</td>\n",
       "      <td>Block your calendar for the 2nd of March!   re...</td>\n",
       "      <td>Feb 26, 2024 · 12:34 PM UTC</td>\n",
       "      <td>642</td>\n",
       "      <td>4</td>\n",
       "    </tr>\n",
       "    <tr>\n",
       "      <th>58</th>\n",
       "      <td>https://twitter.com/AdityaBirlaGrp/status/1741...</td>\n",
       "      <td>How are you prepping for endless opportunities...</td>\n",
       "      <td>Dec 31, 2023 · 9:30 AM UTC</td>\n",
       "      <td>754</td>\n",
       "      <td>6</td>\n",
       "    </tr>\n",
       "    <tr>\n",
       "      <th>60</th>\n",
       "      <td>https://twitter.com/AdityaBirlaGrp/status/1741...</td>\n",
       "      <td>ABGRewind2023 AdityaBirlaGroup BigInYourLife R...</td>\n",
       "      <td>Dec 30, 2023 · 10:41 AM UTC</td>\n",
       "      <td>5</td>\n",
       "      <td>1</td>\n",
       "    </tr>\n",
       "    <tr>\n",
       "      <th>24</th>\n",
       "      <td>https://twitter.com/AdityaBirlaGrp/status/1759...</td>\n",
       "      <td>What gets our leaders going? How did they unlo...</td>\n",
       "      <td>Feb 19, 2024 · 5:39 AM UTC</td>\n",
       "      <td>225</td>\n",
       "      <td>6</td>\n",
       "    </tr>\n",
       "    <tr>\n",
       "      <th>3</th>\n",
       "      <td>https://twitter.com/AdityaBirlaGrp/status/1763...</td>\n",
       "      <td>Live now!  Tap into the pulse of innovation an...</td>\n",
       "      <td>Mar 2, 2024 · 7:40 AM UTC</td>\n",
       "      <td>464</td>\n",
       "      <td>1</td>\n",
       "    </tr>\n",
       "    <tr>\n",
       "      <th>30</th>\n",
       "      <td>https://twitter.com/AdityaBirlaGrp/status/1758...</td>\n",
       "      <td>Grounded in our commitment to social responsib...</td>\n",
       "      <td>Feb 16, 2024 · 6:24 AM UTC</td>\n",
       "      <td>302</td>\n",
       "      <td>2</td>\n",
       "    </tr>\n",
       "    <tr>\n",
       "      <th>70</th>\n",
       "      <td>https://twitter.com/AdityaBirlaGrp/status/1738...</td>\n",
       "      <td>Let the spirit of the holiday season bring you...</td>\n",
       "      <td>Dec 24, 2023 · 6:29 PM UTC</td>\n",
       "      <td>277</td>\n",
       "      <td>5</td>\n",
       "    </tr>\n",
       "    <tr>\n",
       "      <th>26</th>\n",
       "      <td>https://twitter.com/AdityaBirlaGrp/status/1759...</td>\n",
       "      <td>Picture yourself cruising down the open road t...</td>\n",
       "      <td>Feb 18, 2024 · 5:31 AM UTC</td>\n",
       "      <td>172</td>\n",
       "      <td>2</td>\n",
       "    </tr>\n",
       "    <tr>\n",
       "      <th>1</th>\n",
       "      <td>https://twitter.com/AdityaBirlaGrp/status/1764...</td>\n",
       "      <td>Marking the largest investment by private equi...</td>\n",
       "      <td>Mar 5, 2024 · 8:04 AM UTC</td>\n",
       "      <td>78</td>\n",
       "      <td>2</td>\n",
       "    </tr>\n",
       "  </tbody>\n",
       "</table>\n",
       "</div>"
      ],
      "text/plain": [
       "                                                 link  \\\n",
       "45  https://twitter.com/AdityaBirlaGrp/status/1753...   \n",
       "11  https://twitter.com/AdityaBirlaGrp/status/1762...   \n",
       "58  https://twitter.com/AdityaBirlaGrp/status/1741...   \n",
       "60  https://twitter.com/AdityaBirlaGrp/status/1741...   \n",
       "24  https://twitter.com/AdityaBirlaGrp/status/1759...   \n",
       "3   https://twitter.com/AdityaBirlaGrp/status/1763...   \n",
       "30  https://twitter.com/AdityaBirlaGrp/status/1758...   \n",
       "70  https://twitter.com/AdityaBirlaGrp/status/1738...   \n",
       "26  https://twitter.com/AdityaBirlaGrp/status/1759...   \n",
       "1   https://twitter.com/AdityaBirlaGrp/status/1764...   \n",
       "\n",
       "                                               Tweets  \\\n",
       "45  Aditya Birla Capital has reported stellar Q3FY...   \n",
       "11  Block your calendar for the 2nd of March!   re...   \n",
       "58  How are you prepping for endless opportunities...   \n",
       "60  ABGRewind2023 AdityaBirlaGroup BigInYourLife R...   \n",
       "24  What gets our leaders going? How did they unlo...   \n",
       "3   Live now!  Tap into the pulse of innovation an...   \n",
       "30  Grounded in our commitment to social responsib...   \n",
       "70  Let the spirit of the holiday season bring you...   \n",
       "26  Picture yourself cruising down the open road t...   \n",
       "1   Marking the largest investment by private equi...   \n",
       "\n",
       "                           Date  Likes  Count(Tweets)  \n",
       "45   Feb 1, 2024 · 12:53 PM UTC    389              6  \n",
       "11  Feb 26, 2024 · 12:34 PM UTC    642              4  \n",
       "58   Dec 31, 2023 · 9:30 AM UTC    754              6  \n",
       "60  Dec 30, 2023 · 10:41 AM UTC      5              1  \n",
       "24   Feb 19, 2024 · 5:39 AM UTC    225              6  \n",
       "3     Mar 2, 2024 · 7:40 AM UTC    464              1  \n",
       "30   Feb 16, 2024 · 6:24 AM UTC    302              2  \n",
       "70   Dec 24, 2023 · 6:29 PM UTC    277              5  \n",
       "26   Feb 18, 2024 · 5:31 AM UTC    172              2  \n",
       "1     Mar 5, 2024 · 8:04 AM UTC     78              2  "
      ]
     },
     "execution_count": 15,
     "metadata": {},
     "output_type": "execute_result"
    }
   ],
   "source": [
    "# Create a function to clean the tweets\n",
    "def cleanTxt(text):\n",
    " text = re.sub('@[A-Za-z0–9]+', '', text) #Removing @mentions\n",
    " text = re.sub('#', '', text) # Removing '#' hash tag\n",
    " text = re.sub('RT[\\s]+', '', text) # Removing RT\n",
    " text = re.sub('https?:\\/\\/\\S+', '', text) # Removing hyperlink\n",
    " \n",
    " return text\n",
    "\n",
    "\n",
    "# Clean the tweets\n",
    "data['Tweets'] = data['Tweets'].apply(cleanTxt)\n",
    "\n",
    "# Show the cleaned tweets\n",
    "data.sample(10)"
   ]
  },
  {
   "cell_type": "code",
   "execution_count": 45,
   "id": "6e0e6b29",
   "metadata": {
    "scrolled": true
   },
   "outputs": [
    {
     "data": {
      "text/html": [
       "<div>\n",
       "<style scoped>\n",
       "    .dataframe tbody tr th:only-of-type {\n",
       "        vertical-align: middle;\n",
       "    }\n",
       "\n",
       "    .dataframe tbody tr th {\n",
       "        vertical-align: top;\n",
       "    }\n",
       "\n",
       "    .dataframe thead th {\n",
       "        text-align: right;\n",
       "    }\n",
       "</style>\n",
       "<table border=\"1\" class=\"dataframe\">\n",
       "  <thead>\n",
       "    <tr style=\"text-align: right;\">\n",
       "      <th></th>\n",
       "      <th>link</th>\n",
       "      <th>Tweets</th>\n",
       "      <th>Date</th>\n",
       "      <th>Likes</th>\n",
       "      <th>Count(Tweets)</th>\n",
       "      <th>Subjectivity</th>\n",
       "      <th>Polarity</th>\n",
       "      <th>Analysis</th>\n",
       "      <th>Label</th>\n",
       "    </tr>\n",
       "  </thead>\n",
       "  <tbody>\n",
       "    <tr>\n",
       "      <th>63</th>\n",
       "      <td>https://twitter.com/AdityaBirlaGrp/status/1740...</td>\n",
       "      <td>reflect on yet anoth year of purpose-driven im...</td>\n",
       "      <td>Dec 28, 2023 · 7:27 AM UTC</td>\n",
       "      <td>624</td>\n",
       "      <td>13</td>\n",
       "      <td>0.500000</td>\n",
       "      <td>0.136364</td>\n",
       "      <td>Neutral</td>\n",
       "      <td>1</td>\n",
       "    </tr>\n",
       "    <tr>\n",
       "      <th>65</th>\n",
       "      <td>https://twitter.com/AdityaBirlaGrp/status/1740...</td>\n",
       "      <td>our campaign turn heads, made headlines, and s...</td>\n",
       "      <td>Dec 27, 2023 · 2:57 PM UTC</td>\n",
       "      <td>415</td>\n",
       "      <td>8</td>\n",
       "      <td>0.500000</td>\n",
       "      <td>0.450000</td>\n",
       "      <td>Positive</td>\n",
       "      <td>2</td>\n",
       "    </tr>\n",
       "    <tr>\n",
       "      <th>43</th>\n",
       "      <td>https://twitter.com/AdityaBirlaGrp/status/1754...</td>\n",
       "      <td>thi world cancer day, let’ empow ourselv and o...</td>\n",
       "      <td>Feb 4, 2024 · 4:51 AM UTC</td>\n",
       "      <td>391</td>\n",
       "      <td>6</td>\n",
       "      <td>0.225962</td>\n",
       "      <td>-0.062500</td>\n",
       "      <td>Positive</td>\n",
       "      <td>2</td>\n",
       "    </tr>\n",
       "    <tr>\n",
       "      <th>2</th>\n",
       "      <td>https://twitter.com/AdityaBirlaGrp/status/1764...</td>\n",
       "      <td>icon idea by remark speaker from around the gl...</td>\n",
       "      <td>Mar 3, 2024 · 1:52 PM UTC</td>\n",
       "      <td>702</td>\n",
       "      <td>8</td>\n",
       "      <td>0.277273</td>\n",
       "      <td>0.085227</td>\n",
       "      <td>Positive</td>\n",
       "      <td>2</td>\n",
       "    </tr>\n",
       "    <tr>\n",
       "      <th>30</th>\n",
       "      <td>https://twitter.com/AdityaBirlaGrp/status/1758...</td>\n",
       "      <td>ground in our commit to social responsibility,...</td>\n",
       "      <td>Feb 16, 2024 · 6:24 AM UTC</td>\n",
       "      <td>302</td>\n",
       "      <td>2</td>\n",
       "      <td>0.283333</td>\n",
       "      <td>0.084848</td>\n",
       "      <td>Positive</td>\n",
       "      <td>2</td>\n",
       "    </tr>\n",
       "    <tr>\n",
       "      <th>50</th>\n",
       "      <td>https://twitter.com/AdityaBirlaGrp/status/1748...</td>\n",
       "      <td>improv oper efficiencies, coupl with lower fue...</td>\n",
       "      <td>Jan 19, 2024 · 12:33 PM UTC</td>\n",
       "      <td>15</td>\n",
       "      <td>7</td>\n",
       "      <td>0.487179</td>\n",
       "      <td>0.173077</td>\n",
       "      <td>Positive</td>\n",
       "      <td>2</td>\n",
       "    </tr>\n",
       "    <tr>\n",
       "      <th>16</th>\n",
       "      <td>https://twitter.com/AdityaBirlaGrp/status/1760...</td>\n",
       "      <td>with the launch of our latest business, birla ...</td>\n",
       "      <td>Feb 22, 2024 · 12:46 PM UTC</td>\n",
       "      <td>932</td>\n",
       "      <td>15</td>\n",
       "      <td>0.900000</td>\n",
       "      <td>0.500000</td>\n",
       "      <td>Positive</td>\n",
       "      <td>2</td>\n",
       "    </tr>\n",
       "    <tr>\n",
       "      <th>74</th>\n",
       "      <td>https://twitter.com/AdityaBirlaGrp/status/1738...</td>\n",
       "      <td>our triumph were greener thi year! from be the...</td>\n",
       "      <td>Dec 23, 2023 · 6:28 AM UTC</td>\n",
       "      <td>260</td>\n",
       "      <td>6</td>\n",
       "      <td>0.312500</td>\n",
       "      <td>0.250000</td>\n",
       "      <td>Positive</td>\n",
       "      <td>2</td>\n",
       "    </tr>\n",
       "    <tr>\n",
       "      <th>22</th>\n",
       "      <td>https://twitter.com/AdityaBirlaGrp/status/1760...</td>\n",
       "      <td>we'r set to add new hue to your house. our pai...</td>\n",
       "      <td>Feb 21, 2024 · 2:27 PM UTC</td>\n",
       "      <td>277</td>\n",
       "      <td>2</td>\n",
       "      <td>0.469697</td>\n",
       "      <td>0.136364</td>\n",
       "      <td>Positive</td>\n",
       "      <td>2</td>\n",
       "    </tr>\n",
       "    <tr>\n",
       "      <th>57</th>\n",
       "      <td>https://twitter.com/AdityaBirlaGrp/status/1741...</td>\n",
       "      <td>onc in 4 years, we’r all given an extra day. t...</td>\n",
       "      <td>Dec 31, 2023 · 12:30 PM UTC</td>\n",
       "      <td>689</td>\n",
       "      <td>5</td>\n",
       "      <td>0.277273</td>\n",
       "      <td>0.068182</td>\n",
       "      <td>Positive</td>\n",
       "      <td>2</td>\n",
       "    </tr>\n",
       "  </tbody>\n",
       "</table>\n",
       "</div>"
      ],
      "text/plain": [
       "                                                 link  \\\n",
       "63  https://twitter.com/AdityaBirlaGrp/status/1740...   \n",
       "65  https://twitter.com/AdityaBirlaGrp/status/1740...   \n",
       "43  https://twitter.com/AdityaBirlaGrp/status/1754...   \n",
       "2   https://twitter.com/AdityaBirlaGrp/status/1764...   \n",
       "30  https://twitter.com/AdityaBirlaGrp/status/1758...   \n",
       "50  https://twitter.com/AdityaBirlaGrp/status/1748...   \n",
       "16  https://twitter.com/AdityaBirlaGrp/status/1760...   \n",
       "74  https://twitter.com/AdityaBirlaGrp/status/1738...   \n",
       "22  https://twitter.com/AdityaBirlaGrp/status/1760...   \n",
       "57  https://twitter.com/AdityaBirlaGrp/status/1741...   \n",
       "\n",
       "                                               Tweets  \\\n",
       "63  reflect on yet anoth year of purpose-driven im...   \n",
       "65  our campaign turn heads, made headlines, and s...   \n",
       "43  thi world cancer day, let’ empow ourselv and o...   \n",
       "2   icon idea by remark speaker from around the gl...   \n",
       "30  ground in our commit to social responsibility,...   \n",
       "50  improv oper efficiencies, coupl with lower fue...   \n",
       "16  with the launch of our latest business, birla ...   \n",
       "74  our triumph were greener thi year! from be the...   \n",
       "22  we'r set to add new hue to your house. our pai...   \n",
       "57  onc in 4 years, we’r all given an extra day. t...   \n",
       "\n",
       "                           Date  Likes  Count(Tweets)  Subjectivity  Polarity  \\\n",
       "63   Dec 28, 2023 · 7:27 AM UTC    624             13      0.500000  0.136364   \n",
       "65   Dec 27, 2023 · 2:57 PM UTC    415              8      0.500000  0.450000   \n",
       "43    Feb 4, 2024 · 4:51 AM UTC    391              6      0.225962 -0.062500   \n",
       "2     Mar 3, 2024 · 1:52 PM UTC    702              8      0.277273  0.085227   \n",
       "30   Feb 16, 2024 · 6:24 AM UTC    302              2      0.283333  0.084848   \n",
       "50  Jan 19, 2024 · 12:33 PM UTC     15              7      0.487179  0.173077   \n",
       "16  Feb 22, 2024 · 12:46 PM UTC    932             15      0.900000  0.500000   \n",
       "74   Dec 23, 2023 · 6:28 AM UTC    260              6      0.312500  0.250000   \n",
       "22   Feb 21, 2024 · 2:27 PM UTC    277              2      0.469697  0.136364   \n",
       "57  Dec 31, 2023 · 12:30 PM UTC    689              5      0.277273  0.068182   \n",
       "\n",
       "    Analysis  Label  \n",
       "63   Neutral      1  \n",
       "65  Positive      2  \n",
       "43  Positive      2  \n",
       "2   Positive      2  \n",
       "30  Positive      2  \n",
       "50  Positive      2  \n",
       "16  Positive      2  \n",
       "74  Positive      2  \n",
       "22  Positive      2  \n",
       "57  Positive      2  "
      ]
     },
     "execution_count": 45,
     "metadata": {},
     "output_type": "execute_result"
    }
   ],
   "source": [
    "# Create a function to get the subjectivity\n",
    "def getSubjectivity(text):\n",
    "   return TextBlob(text).sentiment.subjectivity\n",
    "\n",
    "# Create a function to get the polarity\n",
    "def getPolarity(text):\n",
    "   return  TextBlob(text).sentiment.polarity\n",
    "\n",
    "\n",
    "# Create two new columns 'Subjectivity' & 'Polarity'\n",
    "data['Subjectivity'] = data['Tweets'].apply(getSubjectivity)\n",
    "data['Polarity'] = data['Tweets'].apply(getPolarity)\n",
    "\n",
    "# Show the new dataframe with columns 'Subjectivity' & 'Polarity'\n",
    "data.sample(10)"
   ]
  },
  {
   "cell_type": "code",
   "execution_count": 46,
   "id": "cfa518d3",
   "metadata": {},
   "outputs": [
    {
     "data": {
      "image/png": "[encoded data removed]",
      "text/plain": [
       "<Figure size 640x480 with 1 Axes>"
      ]
     },
     "metadata": {},
     "output_type": "display_data"
    }
   ],
   "source": [
    "# word cloud visualization\n",
    "allWords = ' '.join([twts for twts in data['Tweets']])\n",
    "wordCloud = WordCloud(width=500, height=300, random_state=21, max_font_size=110).generate(allWords)\n",
    "\n",
    "\n",
    "plt.imshow(wordCloud, interpolation=\"bilinear\")\n",
    "plt.axis('off')\n",
    "plt.show()"
   ]
  },
  {
   "cell_type": "code",
   "execution_count": 47,
   "id": "993f389e",
   "metadata": {},
   "outputs": [
    {
     "data": {
      "text/html": [
       "<div>\n",
       "<style scoped>\n",
       "    .dataframe tbody tr th:only-of-type {\n",
       "        vertical-align: middle;\n",
       "    }\n",
       "\n",
       "    .dataframe tbody tr th {\n",
       "        vertical-align: top;\n",
       "    }\n",
       "\n",
       "    .dataframe thead th {\n",
       "        text-align: right;\n",
       "    }\n",
       "</style>\n",
       "<table border=\"1\" class=\"dataframe\">\n",
       "  <thead>\n",
       "    <tr style=\"text-align: right;\">\n",
       "      <th></th>\n",
       "      <th>link</th>\n",
       "      <th>Tweets</th>\n",
       "      <th>Date</th>\n",
       "      <th>Likes</th>\n",
       "      <th>Count(Tweets)</th>\n",
       "      <th>Subjectivity</th>\n",
       "      <th>Polarity</th>\n",
       "      <th>Analysis</th>\n",
       "      <th>Label</th>\n",
       "    </tr>\n",
       "  </thead>\n",
       "  <tbody>\n",
       "    <tr>\n",
       "      <th>51</th>\n",
       "      <td>https://twitter.com/AdityaBirlaGrp/status/1748...</td>\n",
       "      <td>ultratech report stellar earn for q3fy24 with ...</td>\n",
       "      <td>Jan 19, 2024 · 12:33 PM UTC</td>\n",
       "      <td>399</td>\n",
       "      <td>9</td>\n",
       "      <td>0.125000</td>\n",
       "      <td>0.125000</td>\n",
       "      <td>Positive</td>\n",
       "      <td>2</td>\n",
       "    </tr>\n",
       "    <tr>\n",
       "      <th>71</th>\n",
       "      <td>https://twitter.com/AdityaBirlaGrp/status/1738...</td>\n",
       "      <td>abgrewind2023 adityabirlagroup biginyourlif re...</td>\n",
       "      <td>Dec 24, 2023 · 6:03 AM UTC</td>\n",
       "      <td>9</td>\n",
       "      <td>2</td>\n",
       "      <td>0.000000</td>\n",
       "      <td>0.000000</td>\n",
       "      <td>Neutral</td>\n",
       "      <td>1</td>\n",
       "    </tr>\n",
       "    <tr>\n",
       "      <th>60</th>\n",
       "      <td>https://twitter.com/AdityaBirlaGrp/status/1741...</td>\n",
       "      <td>abgrewind2023 adityabirlagroup biginyourlif re...</td>\n",
       "      <td>Dec 30, 2023 · 10:41 AM UTC</td>\n",
       "      <td>5</td>\n",
       "      <td>1</td>\n",
       "      <td>0.000000</td>\n",
       "      <td>0.000000</td>\n",
       "      <td>Neutral</td>\n",
       "      <td>1</td>\n",
       "    </tr>\n",
       "    <tr>\n",
       "      <th>73</th>\n",
       "      <td>https://twitter.com/AdityaBirlaGrp/status/1738...</td>\n",
       "      <td>abgrewind2023 adityabirlagroup biginyourlif re...</td>\n",
       "      <td>Dec 23, 2023 · 6:28 AM UTC</td>\n",
       "      <td>8</td>\n",
       "      <td>1</td>\n",
       "      <td>0.000000</td>\n",
       "      <td>0.000000</td>\n",
       "      <td>Neutral</td>\n",
       "      <td>1</td>\n",
       "    </tr>\n",
       "    <tr>\n",
       "      <th>52</th>\n",
       "      <td>https://twitter.com/AdityaBirlaGrp/status/1747...</td>\n",
       "      <td>2007: the year we made the aluminum more susta...</td>\n",
       "      <td>Jan 17, 2024 · 1:19 PM UTC</td>\n",
       "      <td>277</td>\n",
       "      <td>4</td>\n",
       "      <td>0.363636</td>\n",
       "      <td>0.315341</td>\n",
       "      <td>Positive</td>\n",
       "      <td>2</td>\n",
       "    </tr>\n",
       "    <tr>\n",
       "      <th>9</th>\n",
       "      <td>https://twitter.com/AdityaBirlaGrp/status/1762...</td>\n",
       "      <td>idea brew ✔️ collabor in the making✔️ it' back...</td>\n",
       "      <td>Feb 27, 2024 · 6:49 AM UTC</td>\n",
       "      <td>14</td>\n",
       "      <td>1</td>\n",
       "      <td>0.000000</td>\n",
       "      <td>0.000000</td>\n",
       "      <td>Neutral</td>\n",
       "      <td>2</td>\n",
       "    </tr>\n",
       "    <tr>\n",
       "      <th>47</th>\n",
       "      <td>https://twitter.com/AdityaBirlaGrp/status/1751...</td>\n",
       "      <td>turn a new page to a blend of perspectives, ou...</td>\n",
       "      <td>Jan 29, 2024 · 3:26 PM UTC</td>\n",
       "      <td>1077</td>\n",
       "      <td>20</td>\n",
       "      <td>0.454545</td>\n",
       "      <td>0.136364</td>\n",
       "      <td>Positive</td>\n",
       "      <td>2</td>\n",
       "    </tr>\n",
       "    <tr>\n",
       "      <th>2</th>\n",
       "      <td>https://twitter.com/AdityaBirlaGrp/status/1764...</td>\n",
       "      <td>icon idea by remark speaker from around the gl...</td>\n",
       "      <td>Mar 3, 2024 · 1:52 PM UTC</td>\n",
       "      <td>702</td>\n",
       "      <td>8</td>\n",
       "      <td>0.277273</td>\n",
       "      <td>0.085227</td>\n",
       "      <td>Positive</td>\n",
       "      <td>2</td>\n",
       "    </tr>\n",
       "    <tr>\n",
       "      <th>65</th>\n",
       "      <td>https://twitter.com/AdityaBirlaGrp/status/1740...</td>\n",
       "      <td>our campaign turn heads, made headlines, and s...</td>\n",
       "      <td>Dec 27, 2023 · 2:57 PM UTC</td>\n",
       "      <td>415</td>\n",
       "      <td>8</td>\n",
       "      <td>0.500000</td>\n",
       "      <td>0.450000</td>\n",
       "      <td>Positive</td>\n",
       "      <td>2</td>\n",
       "    </tr>\n",
       "    <tr>\n",
       "      <th>34</th>\n",
       "      <td>https://twitter.com/AdityaBirlaGrp/status/1757...</td>\n",
       "      <td>ultratech cement switch gears, set to deploy a...</td>\n",
       "      <td>Feb 12, 2024 · 1:13 PM UTC</td>\n",
       "      <td>398</td>\n",
       "      <td>5</td>\n",
       "      <td>0.125000</td>\n",
       "      <td>0.000000</td>\n",
       "      <td>Neutral</td>\n",
       "      <td>1</td>\n",
       "    </tr>\n",
       "  </tbody>\n",
       "</table>\n",
       "</div>"
      ],
      "text/plain": [
       "                                                 link  \\\n",
       "51  https://twitter.com/AdityaBirlaGrp/status/1748...   \n",
       "71  https://twitter.com/AdityaBirlaGrp/status/1738...   \n",
       "60  https://twitter.com/AdityaBirlaGrp/status/1741...   \n",
       "73  https://twitter.com/AdityaBirlaGrp/status/1738...   \n",
       "52  https://twitter.com/AdityaBirlaGrp/status/1747...   \n",
       "9   https://twitter.com/AdityaBirlaGrp/status/1762...   \n",
       "47  https://twitter.com/AdityaBirlaGrp/status/1751...   \n",
       "2   https://twitter.com/AdityaBirlaGrp/status/1764...   \n",
       "65  https://twitter.com/AdityaBirlaGrp/status/1740...   \n",
       "34  https://twitter.com/AdityaBirlaGrp/status/1757...   \n",
       "\n",
       "                                               Tweets  \\\n",
       "51  ultratech report stellar earn for q3fy24 with ...   \n",
       "71  abgrewind2023 adityabirlagroup biginyourlif re...   \n",
       "60  abgrewind2023 adityabirlagroup biginyourlif re...   \n",
       "73  abgrewind2023 adityabirlagroup biginyourlif re...   \n",
       "52  2007: the year we made the aluminum more susta...   \n",
       "9   idea brew ✔️ collabor in the making✔️ it' back...   \n",
       "47  turn a new page to a blend of perspectives, ou...   \n",
       "2   icon idea by remark speaker from around the gl...   \n",
       "65  our campaign turn heads, made headlines, and s...   \n",
       "34  ultratech cement switch gears, set to deploy a...   \n",
       "\n",
       "                           Date  Likes  Count(Tweets)  Subjectivity  Polarity  \\\n",
       "51  Jan 19, 2024 · 12:33 PM UTC    399              9      0.125000  0.125000   \n",
       "71   Dec 24, 2023 · 6:03 AM UTC      9              2      0.000000  0.000000   \n",
       "60  Dec 30, 2023 · 10:41 AM UTC      5              1      0.000000  0.000000   \n",
       "73   Dec 23, 2023 · 6:28 AM UTC      8              1      0.000000  0.000000   \n",
       "52   Jan 17, 2024 · 1:19 PM UTC    277              4      0.363636  0.315341   \n",
       "9    Feb 27, 2024 · 6:49 AM UTC     14              1      0.000000  0.000000   \n",
       "47   Jan 29, 2024 · 3:26 PM UTC   1077             20      0.454545  0.136364   \n",
       "2     Mar 3, 2024 · 1:52 PM UTC    702              8      0.277273  0.085227   \n",
       "65   Dec 27, 2023 · 2:57 PM UTC    415              8      0.500000  0.450000   \n",
       "34   Feb 12, 2024 · 1:13 PM UTC    398              5      0.125000  0.000000   \n",
       "\n",
       "    Analysis  Label  \n",
       "51  Positive      2  \n",
       "71   Neutral      1  \n",
       "60   Neutral      1  \n",
       "73   Neutral      1  \n",
       "52  Positive      2  \n",
       "9    Neutral      2  \n",
       "47  Positive      2  \n",
       "2   Positive      2  \n",
       "65  Positive      2  \n",
       "34   Neutral      1  "
      ]
     },
     "execution_count": 47,
     "metadata": {},
     "output_type": "execute_result"
    }
   ],
   "source": [
    "# Create a function to compute negative (-1), neutral (0) and positive (+1) analysis\n",
    "def getAnalysis(score):\n",
    "  if score < 0:\n",
    "    return 'Negative'\n",
    "  elif score == 0:\n",
    "    return 'Neutral'\n",
    "  else:\n",
    "    return 'Positive'\n",
    "    \n",
    "data['Analysis'] = data['Polarity'].apply(getAnalysis)\n",
    "# Show the dataframe\n",
    "data.sample(10)"
   ]
  },
  {
   "cell_type": "code",
   "execution_count": 48,
   "id": "80cf67b4",
   "metadata": {},
   "outputs": [
    {
     "data": {
      "image/png": "[encoded data removed]",
      "text/plain": [
       "<Figure size 640x480 with 1 Axes>"
      ]
     },
     "metadata": {},
     "output_type": "display_data"
    }
   ],
   "source": [
    "# Plotting and visualizing the counts\n",
    "plt.title('Sentiment Analysis')\n",
    "plt.xlabel('Sentiment')\n",
    "plt.ylabel('Counts')\n",
    "data['Analysis'].value_counts().plot(kind = 'bar')\n",
    "plt.show()\n"
   ]
  },
  {
   "cell_type": "code",
   "execution_count": 49,
   "id": "e37c895a",
   "metadata": {},
   "outputs": [],
   "source": [
    "final_df = data"
   ]
  },
  {
   "cell_type": "code",
   "execution_count": 50,
   "id": "e0f94902",
   "metadata": {},
   "outputs": [],
   "source": [
    "final_df['Tweets']=final_df['Tweets'].astype(str)\n",
    "final_df['Tweets']=final_df['Tweets'].apply(lambda x:x.lower())"
   ]
  },
  {
   "cell_type": "code",
   "execution_count": 51,
   "id": "5df61fd3",
   "metadata": {},
   "outputs": [],
   "source": [
    "from sklearn.model_selection import train_test_split\n",
    "from sklearn.feature_extraction.text import TfidfVectorizer\n",
    "from sklearn.preprocessing import LabelEncoder\n",
    "from sklearn.pipeline import Pipeline\n",
    "from sklearn.naive_bayes import MultinomialNB\n",
    "from sklearn.ensemble import RandomForestClassifier\n",
    "from sklearn.metrics import accuracy_score, classification_report"
   ]
  },
  {
   "cell_type": "code",
   "execution_count": 52,
   "id": "e387604c",
   "metadata": {},
   "outputs": [],
   "source": [
    "import nltk\n",
    "from nltk.stem.porter import *\n",
    "ps=PorterStemmer()"
   ]
  },
  {
   "cell_type": "code",
   "execution_count": 53,
   "id": "6a819c6d",
   "metadata": {},
   "outputs": [],
   "source": [
    "def stem(text):\n",
    "  y=[]\n",
    "  for i in text.split():\n",
    "    y.append(ps.stem(i))\n",
    "  return \" \".join(y) #returns string after stemming"
   ]
  },
  {
   "cell_type": "code",
   "execution_count": 54,
   "id": "a0d782b1",
   "metadata": {},
   "outputs": [],
   "source": [
    "final_df['Tweets']= final_df['Tweets'].apply(stem)"
   ]
  },
  {
   "cell_type": "code",
   "execution_count": 55,
   "id": "58dc4dc2",
   "metadata": {},
   "outputs": [],
   "source": [
    "le_model = LabelEncoder()\n",
    "final_df['Label'] = le_model.fit_transform(final_df['Analysis'])"
   ]
  },
  {
   "cell_type": "code",
   "execution_count": 56,
   "id": "1f0eb8fb",
   "metadata": {},
   "outputs": [],
   "source": [
    "#Splitting the dataset into testing and training sets\n",
    "X_train, X_test, y_train, y_test = train_test_split(final_df['Tweets'], final_df['Label'],\n",
    "                                                    test_size=0.2, random_state=42, stratify=final_df['Label'])"
   ]
  },
  {
   "cell_type": "code",
   "execution_count": 57,
   "id": "8b1af289",
   "metadata": {},
   "outputs": [
    {
     "name": "stdout",
     "output_type": "stream",
     "text": [
      "Shape of X_train:  (64,)\n",
      "Shape of X_test:  (16,)\n"
     ]
    }
   ],
   "source": [
    "print(\"Shape of X_train: \", X_train.shape)\n",
    "print(\"Shape of X_test: \", X_test.shape)"
   ]
  },
  {
   "cell_type": "code",
   "execution_count": 90,
   "id": "7b8bd1f5",
   "metadata": {},
   "outputs": [],
   "source": [
    "clf = Pipeline([\n",
    "    ('vectorizer_tri_grams', TfidfVectorizer()),\n",
    "    ('random_forest', (RandomForestClassifier()))\n",
    "])"
   ]
  },
  {
   "cell_type": "code",
   "execution_count": 91,
   "id": "43b4c44e",
   "metadata": {},
   "outputs": [
    {
     "data": {
      "text/html": [
       "<style>#sk-container-id-7 {color: black;}#sk-container-id-7 pre{padding: 0;}#sk-container-id-7 div.sk-toggleable {background-color: white;}#sk-container-id-7 label.sk-toggleable__label {cursor: pointer;display: block;width: 100%;margin-bottom: 0;padding: 0.3em;box-sizing: border-box;text-align: center;}#sk-container-id-7 label.sk-toggleable__label-arrow:before {content: \"▸\";float: left;margin-right: 0.25em;color: #696969;}#sk-container-id-7 label.sk-toggleable__label-arrow:hover:before {color: black;}#sk-container-id-7 div.sk-estimator:hover label.sk-toggleable__label-arrow:before {color: black;}#sk-container-id-7 div.sk-toggleable__content {max-height: 0;max-width: 0;overflow: hidden;text-align: left;background-color: #f0f8ff;}#sk-container-id-7 div.sk-toggleable__content pre {margin: 0.2em;color: black;border-radius: 0.25em;background-color: #f0f8ff;}#sk-container-id-7 input.sk-toggleable__control:checked~div.sk-toggleable__content {max-height: 200px;max-width: 100%;overflow: auto;}#sk-container-id-7 input.sk-toggleable__control:checked~label.sk-toggleable__label-arrow:before {content: \"▾\";}#sk-container-id-7 div.sk-estimator input.sk-toggleable__control:checked~label.sk-toggleable__label {background-color: #d4ebff;}#sk-container-id-7 div.sk-label input.sk-toggleable__control:checked~label.sk-toggleable__label {background-color: #d4ebff;}#sk-container-id-7 input.sk-hidden--visually {border: 0;clip: rect(1px 1px 1px 1px);clip: rect(1px, 1px, 1px, 1px);height: 1px;margin: -1px;overflow: hidden;padding: 0;position: absolute;width: 1px;}#sk-container-id-7 div.sk-estimator {font-family: monospace;background-color: #f0f8ff;border: 1px dotted black;border-radius: 0.25em;box-sizing: border-box;margin-bottom: 0.5em;}#sk-container-id-7 div.sk-estimator:hover {background-color: #d4ebff;}#sk-container-id-7 div.sk-parallel-item::after {content: \"\";width: 100%;border-bottom: 1px solid gray;flex-grow: 1;}#sk-container-id-7 div.sk-label:hover label.sk-toggleable__label {background-color: #d4ebff;}#sk-container-id-7 div.sk-serial::before {content: \"\";position: absolute;border-left: 1px solid gray;box-sizing: border-box;top: 0;bottom: 0;left: 50%;z-index: 0;}#sk-container-id-7 div.sk-serial {display: flex;flex-direction: column;align-items: center;background-color: white;padding-right: 0.2em;padding-left: 0.2em;position: relative;}#sk-container-id-7 div.sk-item {position: relative;z-index: 1;}#sk-container-id-7 div.sk-parallel {display: flex;align-items: stretch;justify-content: center;background-color: white;position: relative;}#sk-container-id-7 div.sk-item::before, #sk-container-id-7 div.sk-parallel-item::before {content: \"\";position: absolute;border-left: 1px solid gray;box-sizing: border-box;top: 0;bottom: 0;left: 50%;z-index: -1;}#sk-container-id-7 div.sk-parallel-item {display: flex;flex-direction: column;z-index: 1;position: relative;background-color: white;}#sk-container-id-7 div.sk-parallel-item:first-child::after {align-self: flex-end;width: 50%;}#sk-container-id-7 div.sk-parallel-item:last-child::after {align-self: flex-start;width: 50%;}#sk-container-id-7 div.sk-parallel-item:only-child::after {width: 0;}#sk-container-id-7 div.sk-dashed-wrapped {border: 1px dashed gray;margin: 0 0.4em 0.5em 0.4em;box-sizing: border-box;padding-bottom: 0.4em;background-color: white;}#sk-container-id-7 div.sk-label label {font-family: monospace;font-weight: bold;display: inline-block;line-height: 1.2em;}#sk-container-id-7 div.sk-label-container {text-align: center;}#sk-container-id-7 div.sk-container {/* jupyter's `normalize.less` sets `[hidden] { display: none; }` but bootstrap.min.css set `[hidden] { display: none !important; }` so we also need the `!important` here to be able to override the default hidden behavior on the sphinx rendered scikit-learn.org. See: https://github.com/scikit-learn/scikit-learn/issues/21755 */display: inline-block !important;position: relative;}#sk-container-id-7 div.sk-text-repr-fallback {display: none;}</style><div id=\"sk-container-id-7\" class=\"sk-top-container\"><div class=\"sk-text-repr-fallback\"><pre>Pipeline(steps=[(&#x27;vectorizer_tri_grams&#x27;, TfidfVectorizer()),\n",
       "                (&#x27;random_forest&#x27;, RandomForestClassifier())])</pre><b>In a Jupyter environment, please rerun this cell to show the HTML representation or trust the notebook. <br />On GitHub, the HTML representation is unable to render, please try loading this page with nbviewer.org.</b></div><div class=\"sk-container\" hidden><div class=\"sk-item sk-dashed-wrapped\"><div class=\"sk-label-container\"><div class=\"sk-label sk-toggleable\"><input class=\"sk-toggleable__control sk-hidden--visually\" id=\"sk-estimator-id-17\" type=\"checkbox\" ><label for=\"sk-estimator-id-17\" class=\"sk-toggleable__label sk-toggleable__label-arrow\">Pipeline</label><div class=\"sk-toggleable__content\"><pre>Pipeline(steps=[(&#x27;vectorizer_tri_grams&#x27;, TfidfVectorizer()),\n",
       "                (&#x27;random_forest&#x27;, RandomForestClassifier())])</pre></div></div></div><div class=\"sk-serial\"><div class=\"sk-item\"><div class=\"sk-estimator sk-toggleable\"><input class=\"sk-toggleable__control sk-hidden--visually\" id=\"sk-estimator-id-18\" type=\"checkbox\" ><label for=\"sk-estimator-id-18\" class=\"sk-toggleable__label sk-toggleable__label-arrow\">TfidfVectorizer</label><div class=\"sk-toggleable__content\"><pre>TfidfVectorizer()</pre></div></div></div><div class=\"sk-item\"><div class=\"sk-estimator sk-toggleable\"><input class=\"sk-toggleable__control sk-hidden--visually\" id=\"sk-estimator-id-19\" type=\"checkbox\" ><label for=\"sk-estimator-id-19\" class=\"sk-toggleable__label sk-toggleable__label-arrow\">RandomForestClassifier</label><div class=\"sk-toggleable__content\"><pre>RandomForestClassifier()</pre></div></div></div></div></div></div></div>"
      ],
      "text/plain": [
       "Pipeline(steps=[('vectorizer_tri_grams', TfidfVectorizer()),\n",
       "                ('random_forest', RandomForestClassifier())])"
      ]
     },
     "execution_count": 91,
     "metadata": {},
     "output_type": "execute_result"
    }
   ],
   "source": [
    "# Model training\n",
    "clf.fit(X_train, y_train)"
   ]
  },
  {
   "cell_type": "code",
   "execution_count": 92,
   "id": "9c70d9e8",
   "metadata": {},
   "outputs": [],
   "source": [
    "# Get the predictions for X_test and store it in y_pred\n",
    "y_pred = clf.predict(X_test)"
   ]
  },
  {
   "cell_type": "code",
   "execution_count": 93,
   "id": "338d4663",
   "metadata": {},
   "outputs": [
    {
     "name": "stdout",
     "output_type": "stream",
     "text": [
      "0.5625\n"
     ]
    }
   ],
   "source": [
    "# Print score\n",
    "print(accuracy_score(y_test, y_pred))"
   ]
  },
  {
   "cell_type": "code",
   "execution_count": 94,
   "id": "be5caddd",
   "metadata": {
    "scrolled": true
   },
   "outputs": [
    {
     "name": "stdout",
     "output_type": "stream",
     "text": [
      "              precision    recall  f1-score   support\n",
      "\n",
      "           0       0.00      0.00      0.00         2\n",
      "           1       0.50      0.57      0.53         7\n",
      "           2       0.62      0.71      0.67         7\n",
      "\n",
      "    accuracy                           0.56        16\n",
      "   macro avg       0.38      0.43      0.40        16\n",
      "weighted avg       0.49      0.56      0.52        16\n",
      "\n"
     ]
    },
    {
     "name": "stderr",
     "output_type": "stream",
     "text": [
      "C:\\Users\\Prajwal\\anaconda3\\Lib\\site-packages\\sklearn\\metrics\\_classification.py:1469: UndefinedMetricWarning: Precision and F-score are ill-defined and being set to 0.0 in labels with no predicted samples. Use `zero_division` parameter to control this behavior.\n",
      "  _warn_prf(average, modifier, msg_start, len(result))\n",
      "C:\\Users\\Prajwal\\anaconda3\\Lib\\site-packages\\sklearn\\metrics\\_classification.py:1469: UndefinedMetricWarning: Precision and F-score are ill-defined and being set to 0.0 in labels with no predicted samples. Use `zero_division` parameter to control this behavior.\n",
      "  _warn_prf(average, modifier, msg_start, len(result))\n",
      "C:\\Users\\Prajwal\\anaconda3\\Lib\\site-packages\\sklearn\\metrics\\_classification.py:1469: UndefinedMetricWarning: Precision and F-score are ill-defined and being set to 0.0 in labels with no predicted samples. Use `zero_division` parameter to control this behavior.\n",
      "  _warn_prf(average, modifier, msg_start, len(result))\n"
     ]
    }
   ],
   "source": [
    "# Print classification report\n",
    "print(classification_report(y_test, y_pred))"
   ]
  },
  {
   "cell_type": "code",
   "execution_count": 63,
   "id": "d5e83526",
   "metadata": {},
   "outputs": [],
   "source": [
    "from sklearn.svm import LinearSVC\n",
    "from sklearn.naive_bayes import BernoulliNB\n",
    "from sklearn.linear_model import LogisticRegression\n",
    "from sklearn.feature_extraction.text import ENGLISH_STOP_WORDS, TfidfVectorizer\n",
    "from sklearn.pipeline import Pipeline\n",
    "from sklearn.metrics import f1_score\n",
    "from sklearn.model_selection import train_test_split"
   ]
  },
  {
   "cell_type": "markdown",
   "id": "16f7bc2d-34af-4035-9391-69f99ca0cc5d",
   "metadata": {},
   "source": [
    "BNBmodel = BernoulliNB()\n",
    "BNBmodel.fit(X_train, y_train)\n",
    "model_Evaluate(BNBmodel)\n",
    "y_pred1 = BNBmodel.predict(X_test)"
   ]
  },
  {
   "cell_type": "markdown",
   "id": "137cfaa4-68d9-4233-9323-6eb5927646d4",
   "metadata": {
    "scrolled": true
   },
   "source": [
    "vectoriser = TfidfVectorizer(ngram_range=(1,2), max_features=500000)\n",
    "vectoriser.fit(X_train)\n",
    "print('No. of feature_words: ', len(vectoriser.get_feature_names()))"
   ]
  },
  {
   "cell_type": "code",
   "execution_count": 64,
   "id": "c795f92a",
   "metadata": {},
   "outputs": [
    {
     "data": {
      "text/plain": [
       "((64, 9), (16, 9))"
      ]
     },
     "execution_count": 64,
     "metadata": {},
     "output_type": "execute_result"
    }
   ],
   "source": [
    "# train test split\n",
    "train, test = train_test_split(data, test_size = 0.2, stratify = data['Analysis'], random_state=21)\n",
    "\n",
    "# get the shape of train and test split.\n",
    "train.shape, test.shape"
   ]
  },
  {
   "cell_type": "code",
   "execution_count": 68,
   "id": "0e2118c2-1d48-4241-bf77-7fd24c39b4a2",
   "metadata": {},
   "outputs": [
    {
     "name": "stdout",
     "output_type": "stream",
     "text": [
      "<class 'pandas.core.frame.DataFrame'>\n",
      "Index: 64 entries, 38 to 42\n",
      "Data columns (total 9 columns):\n",
      " #   Column         Non-Null Count  Dtype  \n",
      "---  ------         --------------  -----  \n",
      " 0   link           64 non-null     object \n",
      " 1   Tweets         64 non-null     object \n",
      " 2   Date           64 non-null     object \n",
      " 3   Likes          64 non-null     int64  \n",
      " 4   Count(Tweets)  64 non-null     int64  \n",
      " 5   Subjectivity   64 non-null     float64\n",
      " 6   Polarity       64 non-null     float64\n",
      " 7   Analysis       64 non-null     object \n",
      " 8   Label          64 non-null     int32  \n",
      "dtypes: float64(2), int32(1), int64(2), object(4)\n",
      "memory usage: 4.8+ KB\n"
     ]
    }
   ],
   "source": [
    "train.info()"
   ]
  },
  {
   "cell_type": "code",
   "execution_count": 71,
   "id": "5d7e58e7",
   "metadata": {},
   "outputs": [
    {
     "data": {
      "text/html": [
       "<style>#sk-container-id-3 {color: black;}#sk-container-id-3 pre{padding: 0;}#sk-container-id-3 div.sk-toggleable {background-color: white;}#sk-container-id-3 label.sk-toggleable__label {cursor: pointer;display: block;width: 100%;margin-bottom: 0;padding: 0.3em;box-sizing: border-box;text-align: center;}#sk-container-id-3 label.sk-toggleable__label-arrow:before {content: \"▸\";float: left;margin-right: 0.25em;color: #696969;}#sk-container-id-3 label.sk-toggleable__label-arrow:hover:before {color: black;}#sk-container-id-3 div.sk-estimator:hover label.sk-toggleable__label-arrow:before {color: black;}#sk-container-id-3 div.sk-toggleable__content {max-height: 0;max-width: 0;overflow: hidden;text-align: left;background-color: #f0f8ff;}#sk-container-id-3 div.sk-toggleable__content pre {margin: 0.2em;color: black;border-radius: 0.25em;background-color: #f0f8ff;}#sk-container-id-3 input.sk-toggleable__control:checked~div.sk-toggleable__content {max-height: 200px;max-width: 100%;overflow: auto;}#sk-container-id-3 input.sk-toggleable__control:checked~label.sk-toggleable__label-arrow:before {content: \"▾\";}#sk-container-id-3 div.sk-estimator input.sk-toggleable__control:checked~label.sk-toggleable__label {background-color: #d4ebff;}#sk-container-id-3 div.sk-label input.sk-toggleable__control:checked~label.sk-toggleable__label {background-color: #d4ebff;}#sk-container-id-3 input.sk-hidden--visually {border: 0;clip: rect(1px 1px 1px 1px);clip: rect(1px, 1px, 1px, 1px);height: 1px;margin: -1px;overflow: hidden;padding: 0;position: absolute;width: 1px;}#sk-container-id-3 div.sk-estimator {font-family: monospace;background-color: #f0f8ff;border: 1px dotted black;border-radius: 0.25em;box-sizing: border-box;margin-bottom: 0.5em;}#sk-container-id-3 div.sk-estimator:hover {background-color: #d4ebff;}#sk-container-id-3 div.sk-parallel-item::after {content: \"\";width: 100%;border-bottom: 1px solid gray;flex-grow: 1;}#sk-container-id-3 div.sk-label:hover label.sk-toggleable__label {background-color: #d4ebff;}#sk-container-id-3 div.sk-serial::before {content: \"\";position: absolute;border-left: 1px solid gray;box-sizing: border-box;top: 0;bottom: 0;left: 50%;z-index: 0;}#sk-container-id-3 div.sk-serial {display: flex;flex-direction: column;align-items: center;background-color: white;padding-right: 0.2em;padding-left: 0.2em;position: relative;}#sk-container-id-3 div.sk-item {position: relative;z-index: 1;}#sk-container-id-3 div.sk-parallel {display: flex;align-items: stretch;justify-content: center;background-color: white;position: relative;}#sk-container-id-3 div.sk-item::before, #sk-container-id-3 div.sk-parallel-item::before {content: \"\";position: absolute;border-left: 1px solid gray;box-sizing: border-box;top: 0;bottom: 0;left: 50%;z-index: -1;}#sk-container-id-3 div.sk-parallel-item {display: flex;flex-direction: column;z-index: 1;position: relative;background-color: white;}#sk-container-id-3 div.sk-parallel-item:first-child::after {align-self: flex-end;width: 50%;}#sk-container-id-3 div.sk-parallel-item:last-child::after {align-self: flex-start;width: 50%;}#sk-container-id-3 div.sk-parallel-item:only-child::after {width: 0;}#sk-container-id-3 div.sk-dashed-wrapped {border: 1px dashed gray;margin: 0 0.4em 0.5em 0.4em;box-sizing: border-box;padding-bottom: 0.4em;background-color: white;}#sk-container-id-3 div.sk-label label {font-family: monospace;font-weight: bold;display: inline-block;line-height: 1.2em;}#sk-container-id-3 div.sk-label-container {text-align: center;}#sk-container-id-3 div.sk-container {/* jupyter's `normalize.less` sets `[hidden] { display: none; }` but bootstrap.min.css set `[hidden] { display: none !important; }` so we also need the `!important` here to be able to override the default hidden behavior on the sphinx rendered scikit-learn.org. See: https://github.com/scikit-learn/scikit-learn/issues/21755 */display: inline-block !important;position: relative;}#sk-container-id-3 div.sk-text-repr-fallback {display: none;}</style><div id=\"sk-container-id-3\" class=\"sk-top-container\"><div class=\"sk-text-repr-fallback\"><pre>TfidfVectorizer(max_features=1000, stop_words=&#x27;english&#x27;)</pre><b>In a Jupyter environment, please rerun this cell to show the HTML representation or trust the notebook. <br />On GitHub, the HTML representation is unable to render, please try loading this page with nbviewer.org.</b></div><div class=\"sk-container\" hidden><div class=\"sk-item\"><div class=\"sk-estimator sk-toggleable\"><input class=\"sk-toggleable__control sk-hidden--visually\" id=\"sk-estimator-id-7\" type=\"checkbox\" checked><label for=\"sk-estimator-id-7\" class=\"sk-toggleable__label sk-toggleable__label-arrow\">TfidfVectorizer</label><div class=\"sk-toggleable__content\"><pre>TfidfVectorizer(max_features=1000, stop_words=&#x27;english&#x27;)</pre></div></div></div></div></div>"
      ],
      "text/plain": [
       "TfidfVectorizer(max_features=1000, stop_words='english')"
      ]
     },
     "execution_count": 71,
     "metadata": {},
     "output_type": "execute_result"
    }
   ],
   "source": [
    "# create a TF-IDF vectorizer object\n",
    "tfidf_vectorizer = TfidfVectorizer(lowercase= True, max_features=1000, stop_words='english')\n",
    "\n",
    "# fit the object with the training data tweets\n",
    "tfidf_vectorizer.fit(train['Tweets'].astype(str))"
   ]
  },
  {
   "cell_type": "code",
   "execution_count": 72,
   "id": "7e0cecc8-4247-48c6-b2f3-fbfc5ab30d4a",
   "metadata": {},
   "outputs": [],
   "source": [
    "# transform the train and test data\n",
    "train_idf = tfidf_vectorizer.transform(train.Tweets)\n",
    "test_idf  = tfidf_vectorizer.transform(test.Tweets)"
   ]
  },
  {
   "cell_type": "code",
   "execution_count": 84,
   "id": "f93ca6a3-56cf-43e9-a72c-6cc016c1b59b",
   "metadata": {},
   "outputs": [],
   "source": [
    "# create the object of LinearRegression Model\n",
    "model_LR = RandomForestClassifier()\n",
    "\n",
    "# fit the model with the training data\n",
    "model_LR.fit(train_idf, train.Label)\n",
    "\n",
    "# predict the label on the traning data\n",
    "predict_train = model_LR.predict(train_idf)\n",
    "\n",
    "# predict the model on the test data\n",
    "predict_test = model_LR.predict(test_idf)"
   ]
  },
  {
   "cell_type": "code",
   "execution_count": 85,
   "id": "131f02a3-b3c3-40cf-91a2-be576d6b0d5a",
   "metadata": {},
   "outputs": [
    {
     "name": "stdout",
     "output_type": "stream",
     "text": [
      "              precision    recall  f1-score   support\n",
      "\n",
      "           0       1.00      1.00      1.00         5\n",
      "           1       1.00      1.00      1.00        29\n",
      "           2       1.00      1.00      1.00        30\n",
      "\n",
      "    accuracy                           1.00        64\n",
      "   macro avg       1.00      1.00      1.00        64\n",
      "weighted avg       1.00      1.00      1.00        64\n",
      "\n"
     ]
    }
   ],
   "source": [
    "print(classification_report(train.Label, predict_train))"
   ]
  },
  {
   "cell_type": "code",
   "execution_count": 80,
   "id": "994ce944-902b-4189-8fe7-4d0463d901ae",
   "metadata": {},
   "outputs": [
    {
     "data": {
      "text/html": [
       "<style>#sk-container-id-4 {color: black;}#sk-container-id-4 pre{padding: 0;}#sk-container-id-4 div.sk-toggleable {background-color: white;}#sk-container-id-4 label.sk-toggleable__label {cursor: pointer;display: block;width: 100%;margin-bottom: 0;padding: 0.3em;box-sizing: border-box;text-align: center;}#sk-container-id-4 label.sk-toggleable__label-arrow:before {content: \"▸\";float: left;margin-right: 0.25em;color: #696969;}#sk-container-id-4 label.sk-toggleable__label-arrow:hover:before {color: black;}#sk-container-id-4 div.sk-estimator:hover label.sk-toggleable__label-arrow:before {color: black;}#sk-container-id-4 div.sk-toggleable__content {max-height: 0;max-width: 0;overflow: hidden;text-align: left;background-color: #f0f8ff;}#sk-container-id-4 div.sk-toggleable__content pre {margin: 0.2em;color: black;border-radius: 0.25em;background-color: #f0f8ff;}#sk-container-id-4 input.sk-toggleable__control:checked~div.sk-toggleable__content {max-height: 200px;max-width: 100%;overflow: auto;}#sk-container-id-4 input.sk-toggleable__control:checked~label.sk-toggleable__label-arrow:before {content: \"▾\";}#sk-container-id-4 div.sk-estimator input.sk-toggleable__control:checked~label.sk-toggleable__label {background-color: #d4ebff;}#sk-container-id-4 div.sk-label input.sk-toggleable__control:checked~label.sk-toggleable__label {background-color: #d4ebff;}#sk-container-id-4 input.sk-hidden--visually {border: 0;clip: rect(1px 1px 1px 1px);clip: rect(1px, 1px, 1px, 1px);height: 1px;margin: -1px;overflow: hidden;padding: 0;position: absolute;width: 1px;}#sk-container-id-4 div.sk-estimator {font-family: monospace;background-color: #f0f8ff;border: 1px dotted black;border-radius: 0.25em;box-sizing: border-box;margin-bottom: 0.5em;}#sk-container-id-4 div.sk-estimator:hover {background-color: #d4ebff;}#sk-container-id-4 div.sk-parallel-item::after {content: \"\";width: 100%;border-bottom: 1px solid gray;flex-grow: 1;}#sk-container-id-4 div.sk-label:hover label.sk-toggleable__label {background-color: #d4ebff;}#sk-container-id-4 div.sk-serial::before {content: \"\";position: absolute;border-left: 1px solid gray;box-sizing: border-box;top: 0;bottom: 0;left: 50%;z-index: 0;}#sk-container-id-4 div.sk-serial {display: flex;flex-direction: column;align-items: center;background-color: white;padding-right: 0.2em;padding-left: 0.2em;position: relative;}#sk-container-id-4 div.sk-item {position: relative;z-index: 1;}#sk-container-id-4 div.sk-parallel {display: flex;align-items: stretch;justify-content: center;background-color: white;position: relative;}#sk-container-id-4 div.sk-item::before, #sk-container-id-4 div.sk-parallel-item::before {content: \"\";position: absolute;border-left: 1px solid gray;box-sizing: border-box;top: 0;bottom: 0;left: 50%;z-index: -1;}#sk-container-id-4 div.sk-parallel-item {display: flex;flex-direction: column;z-index: 1;position: relative;background-color: white;}#sk-container-id-4 div.sk-parallel-item:first-child::after {align-self: flex-end;width: 50%;}#sk-container-id-4 div.sk-parallel-item:last-child::after {align-self: flex-start;width: 50%;}#sk-container-id-4 div.sk-parallel-item:only-child::after {width: 0;}#sk-container-id-4 div.sk-dashed-wrapped {border: 1px dashed gray;margin: 0 0.4em 0.5em 0.4em;box-sizing: border-box;padding-bottom: 0.4em;background-color: white;}#sk-container-id-4 div.sk-label label {font-family: monospace;font-weight: bold;display: inline-block;line-height: 1.2em;}#sk-container-id-4 div.sk-label-container {text-align: center;}#sk-container-id-4 div.sk-container {/* jupyter's `normalize.less` sets `[hidden] { display: none; }` but bootstrap.min.css set `[hidden] { display: none !important; }` so we also need the `!important` here to be able to override the default hidden behavior on the sphinx rendered scikit-learn.org. See: https://github.com/scikit-learn/scikit-learn/issues/21755 */display: inline-block !important;position: relative;}#sk-container-id-4 div.sk-text-repr-fallback {display: none;}</style><div id=\"sk-container-id-4\" class=\"sk-top-container\"><div class=\"sk-text-repr-fallback\"><pre>Pipeline(steps=[(&#x27;tfidf&#x27;,\n",
       "                 TfidfVectorizer(max_features=1000, stop_words=&#x27;english&#x27;)),\n",
       "                (&#x27;model&#x27;, LogisticRegression())])</pre><b>In a Jupyter environment, please rerun this cell to show the HTML representation or trust the notebook. <br />On GitHub, the HTML representation is unable to render, please try loading this page with nbviewer.org.</b></div><div class=\"sk-container\" hidden><div class=\"sk-item sk-dashed-wrapped\"><div class=\"sk-label-container\"><div class=\"sk-label sk-toggleable\"><input class=\"sk-toggleable__control sk-hidden--visually\" id=\"sk-estimator-id-8\" type=\"checkbox\" ><label for=\"sk-estimator-id-8\" class=\"sk-toggleable__label sk-toggleable__label-arrow\">Pipeline</label><div class=\"sk-toggleable__content\"><pre>Pipeline(steps=[(&#x27;tfidf&#x27;,\n",
       "                 TfidfVectorizer(max_features=1000, stop_words=&#x27;english&#x27;)),\n",
       "                (&#x27;model&#x27;, LogisticRegression())])</pre></div></div></div><div class=\"sk-serial\"><div class=\"sk-item\"><div class=\"sk-estimator sk-toggleable\"><input class=\"sk-toggleable__control sk-hidden--visually\" id=\"sk-estimator-id-9\" type=\"checkbox\" ><label for=\"sk-estimator-id-9\" class=\"sk-toggleable__label sk-toggleable__label-arrow\">TfidfVectorizer</label><div class=\"sk-toggleable__content\"><pre>TfidfVectorizer(max_features=1000, stop_words=&#x27;english&#x27;)</pre></div></div></div><div class=\"sk-item\"><div class=\"sk-estimator sk-toggleable\"><input class=\"sk-toggleable__control sk-hidden--visually\" id=\"sk-estimator-id-10\" type=\"checkbox\" ><label for=\"sk-estimator-id-10\" class=\"sk-toggleable__label sk-toggleable__label-arrow\">LogisticRegression</label><div class=\"sk-toggleable__content\"><pre>LogisticRegression()</pre></div></div></div></div></div></div></div>"
      ],
      "text/plain": [
       "Pipeline(steps=[('tfidf',\n",
       "                 TfidfVectorizer(max_features=1000, stop_words='english')),\n",
       "                ('model', LogisticRegression())])"
      ]
     },
     "execution_count": 80,
     "metadata": {},
     "output_type": "execute_result"
    }
   ],
   "source": [
    "# define the stages of the pipeline\n",
    "pipeline = Pipeline(steps= [('tfidf', TfidfVectorizer(lowercase=True,\n",
    "                                                      max_features=1000,\n",
    "                                                      stop_words= 'english')),\n",
    "                            ('model', LogisticRegression())])\n",
    "\n",
    "# fit the pipeline model with the training data                            \n",
    "pipeline.fit(train.Tweets, train.Label)"
   ]
  },
  {
   "cell_type": "code",
   "execution_count": 83,
   "id": "937edacc-4312-41f5-90e6-2983c29f9b0a",
   "metadata": {},
   "outputs": [
    {
     "data": {
      "text/html": [
       "<style>#sk-container-id-5 {color: black;}#sk-container-id-5 pre{padding: 0;}#sk-container-id-5 div.sk-toggleable {background-color: white;}#sk-container-id-5 label.sk-toggleable__label {cursor: pointer;display: block;width: 100%;margin-bottom: 0;padding: 0.3em;box-sizing: border-box;text-align: center;}#sk-container-id-5 label.sk-toggleable__label-arrow:before {content: \"▸\";float: left;margin-right: 0.25em;color: #696969;}#sk-container-id-5 label.sk-toggleable__label-arrow:hover:before {color: black;}#sk-container-id-5 div.sk-estimator:hover label.sk-toggleable__label-arrow:before {color: black;}#sk-container-id-5 div.sk-toggleable__content {max-height: 0;max-width: 0;overflow: hidden;text-align: left;background-color: #f0f8ff;}#sk-container-id-5 div.sk-toggleable__content pre {margin: 0.2em;color: black;border-radius: 0.25em;background-color: #f0f8ff;}#sk-container-id-5 input.sk-toggleable__control:checked~div.sk-toggleable__content {max-height: 200px;max-width: 100%;overflow: auto;}#sk-container-id-5 input.sk-toggleable__control:checked~label.sk-toggleable__label-arrow:before {content: \"▾\";}#sk-container-id-5 div.sk-estimator input.sk-toggleable__control:checked~label.sk-toggleable__label {background-color: #d4ebff;}#sk-container-id-5 div.sk-label input.sk-toggleable__control:checked~label.sk-toggleable__label {background-color: #d4ebff;}#sk-container-id-5 input.sk-hidden--visually {border: 0;clip: rect(1px 1px 1px 1px);clip: rect(1px, 1px, 1px, 1px);height: 1px;margin: -1px;overflow: hidden;padding: 0;position: absolute;width: 1px;}#sk-container-id-5 div.sk-estimator {font-family: monospace;background-color: #f0f8ff;border: 1px dotted black;border-radius: 0.25em;box-sizing: border-box;margin-bottom: 0.5em;}#sk-container-id-5 div.sk-estimator:hover {background-color: #d4ebff;}#sk-container-id-5 div.sk-parallel-item::after {content: \"\";width: 100%;border-bottom: 1px solid gray;flex-grow: 1;}#sk-container-id-5 div.sk-label:hover label.sk-toggleable__label {background-color: #d4ebff;}#sk-container-id-5 div.sk-serial::before {content: \"\";position: absolute;border-left: 1px solid gray;box-sizing: border-box;top: 0;bottom: 0;left: 50%;z-index: 0;}#sk-container-id-5 div.sk-serial {display: flex;flex-direction: column;align-items: center;background-color: white;padding-right: 0.2em;padding-left: 0.2em;position: relative;}#sk-container-id-5 div.sk-item {position: relative;z-index: 1;}#sk-container-id-5 div.sk-parallel {display: flex;align-items: stretch;justify-content: center;background-color: white;position: relative;}#sk-container-id-5 div.sk-item::before, #sk-container-id-5 div.sk-parallel-item::before {content: \"\";position: absolute;border-left: 1px solid gray;box-sizing: border-box;top: 0;bottom: 0;left: 50%;z-index: -1;}#sk-container-id-5 div.sk-parallel-item {display: flex;flex-direction: column;z-index: 1;position: relative;background-color: white;}#sk-container-id-5 div.sk-parallel-item:first-child::after {align-self: flex-end;width: 50%;}#sk-container-id-5 div.sk-parallel-item:last-child::after {align-self: flex-start;width: 50%;}#sk-container-id-5 div.sk-parallel-item:only-child::after {width: 0;}#sk-container-id-5 div.sk-dashed-wrapped {border: 1px dashed gray;margin: 0 0.4em 0.5em 0.4em;box-sizing: border-box;padding-bottom: 0.4em;background-color: white;}#sk-container-id-5 div.sk-label label {font-family: monospace;font-weight: bold;display: inline-block;line-height: 1.2em;}#sk-container-id-5 div.sk-label-container {text-align: center;}#sk-container-id-5 div.sk-container {/* jupyter's `normalize.less` sets `[hidden] { display: none; }` but bootstrap.min.css set `[hidden] { display: none !important; }` so we also need the `!important` here to be able to override the default hidden behavior on the sphinx rendered scikit-learn.org. See: https://github.com/scikit-learn/scikit-learn/issues/21755 */display: inline-block !important;position: relative;}#sk-container-id-5 div.sk-text-repr-fallback {display: none;}</style><div id=\"sk-container-id-5\" class=\"sk-top-container\"><div class=\"sk-text-repr-fallback\"><pre>Pipeline(steps=[(&#x27;vectorizer_tri_grams&#x27;, TfidfVectorizer()),\n",
       "                (&#x27;random_forest&#x27;, RandomForestClassifier())])</pre><b>In a Jupyter environment, please rerun this cell to show the HTML representation or trust the notebook. <br />On GitHub, the HTML representation is unable to render, please try loading this page with nbviewer.org.</b></div><div class=\"sk-container\" hidden><div class=\"sk-item sk-dashed-wrapped\"><div class=\"sk-label-container\"><div class=\"sk-label sk-toggleable\"><input class=\"sk-toggleable__control sk-hidden--visually\" id=\"sk-estimator-id-11\" type=\"checkbox\" ><label for=\"sk-estimator-id-11\" class=\"sk-toggleable__label sk-toggleable__label-arrow\">Pipeline</label><div class=\"sk-toggleable__content\"><pre>Pipeline(steps=[(&#x27;vectorizer_tri_grams&#x27;, TfidfVectorizer()),\n",
       "                (&#x27;random_forest&#x27;, RandomForestClassifier())])</pre></div></div></div><div class=\"sk-serial\"><div class=\"sk-item\"><div class=\"sk-estimator sk-toggleable\"><input class=\"sk-toggleable__control sk-hidden--visually\" id=\"sk-estimator-id-12\" type=\"checkbox\" ><label for=\"sk-estimator-id-12\" class=\"sk-toggleable__label sk-toggleable__label-arrow\">TfidfVectorizer</label><div class=\"sk-toggleable__content\"><pre>TfidfVectorizer()</pre></div></div></div><div class=\"sk-item\"><div class=\"sk-estimator sk-toggleable\"><input class=\"sk-toggleable__control sk-hidden--visually\" id=\"sk-estimator-id-13\" type=\"checkbox\" ><label for=\"sk-estimator-id-13\" class=\"sk-toggleable__label sk-toggleable__label-arrow\">RandomForestClassifier</label><div class=\"sk-toggleable__content\"><pre>RandomForestClassifier()</pre></div></div></div></div></div></div></div>"
      ],
      "text/plain": [
       "Pipeline(steps=[('vectorizer_tri_grams', TfidfVectorizer()),\n",
       "                ('random_forest', RandomForestClassifier())])"
      ]
     },
     "execution_count": 83,
     "metadata": {},
     "output_type": "execute_result"
    }
   ],
   "source": [
    "# clf.fit(train.Tweets, train.Label)"
   ]
  },
  {
   "cell_type": "code",
   "execution_count": 101,
   "id": "c706354c-bf2b-4346-b91c-2d8ac54b2ff3",
   "metadata": {},
   "outputs": [
    {
     "data": {
      "text/plain": [
       "array([2])"
      ]
     },
     "execution_count": 101,
     "metadata": {},
     "output_type": "execute_result"
    }
   ],
   "source": [
    "# sample tweet\n",
    "text = [\"Virat Kohli, AB de Villiers set to auction their 'Green Day' kits from 2016 IPL match to raise funds\"]\n",
    "\n",
    "# predict the label using the pipeline\n",
    "pipeline.predict(text)"
   ]
  },
  {
   "cell_type": "code",
   "execution_count": 103,
   "id": "8a045274-e099-4565-a88d-70a096a404c0",
   "metadata": {},
   "outputs": [
    {
     "data": {
      "text/plain": [
       "array([1])"
      ]
     },
     "execution_count": 103,
     "metadata": {},
     "output_type": "execute_result"
    }
   ],
   "source": [
    "clf.predict(text)"
   ]
  },
  {
   "cell_type": "code",
   "execution_count": null,
   "id": "980c310b-a1ef-4f5b-9d6e-245db4cc5611",
   "metadata": {},
   "outputs": [],
   "source": []
  }
 ],
 "metadata": {
  "kernelspec": {
   "display_name": "Python 3 (ipykernel)",
   "language": "python",
   "name": "python3"
  },
  "language_info": {
   "codemirror_mode": {
    "name": "ipython",
    "version": 3
   },
   "file_extension": ".py",
   "mimetype": "text/x-python",
   "name": "python",
   "nbconvert_exporter": "python",
   "pygments_lexer": "ipython3",
   "version": "3.11.5"
  }
 },
 "nbformat": 4,
 "nbformat_minor": 5
}
